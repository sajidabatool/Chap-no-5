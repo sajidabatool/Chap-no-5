{
  "nbformat": 4,
  "nbformat_minor": 0,
  "metadata": {
    "colab": {
      "provenance": [],
      "authorship_tag": "ABX9TyOEH56Juqqin02gnS/y1NLc",
      "include_colab_link": true
    },
    "kernelspec": {
      "name": "python3",
      "display_name": "Python 3"
    },
    "language_info": {
      "name": "python"
    }
  },
  "cells": [
    {
      "cell_type": "markdown",
      "metadata": {
        "id": "view-in-github",
        "colab_type": "text"
      },
      "source": [
        "<a href=\"https://colab.research.google.com/github/sajidabatool/Chap-no-5/blob/main/Untitled16.ipynb\" target=\"_parent\"><img src=\"https://colab.research.google.com/assets/colab-badge.svg\" alt=\"Open In Colab\"/></a>"
      ]
    },
    {
      "cell_type": "code",
      "execution_count": null,
      "metadata": {
        "id": "ljRSAv5E1THw"
      },
      "outputs": [],
      "source": []
    },
    {
      "cell_type": "markdown",
      "source": [
        "**Question No 5.2**"
      ],
      "metadata": {
        "id": "lrJqUEnF1apy"
      }
    },
    {
      "cell_type": "code",
      "source": [
        "# Part 1\n",
        "laptop_sajida=\"Del\"\n",
        "print(laptop_sajida=='lenovo')\n",
        "print(laptop_sajida=='Samsung')\n",
        "print(laptop_sajida!='tosheeba')\n",
        "print(laptop_sajida!='acer')\n",
        "\n",
        "# Part 2 Test using the Lower function\n",
        "print(\"\\n\")\n",
        "print(laptop_sajida.lower()=='Samsung')\n",
        "print(laptop_sajida.lower()=='samsung')\n",
        "\n",
        "# Part 3\n",
        "print(\"\\n\") \n",
        "a_sajida=16\n",
        "print(a_sajida==10) # Equality\n",
        "print(a_sajida!=10) # Non Equality\n",
        "print(a_sajida>16)  # Greater then\n",
        "print(a_sajida<16)  # Less then\n",
        "print(a_sajida>=10) #Greater then equal to\n",
        "print(a_sajida<=16)  # less then equal to\n",
        "#Part 4\n",
        "print(\"\\n\")\n",
        "age_sajida=16\n",
        "height_sajida=5.1\n",
        "print(age_sajida>18 and height_sajida>=5.1)\n",
        "print(age_sajida>18 or height_sajida>=5.1)\n",
        "    \n",
        "# Part 5\n",
        "print(\"\\n\") \n",
        "list_sajida=[30,25,56,580,582,100]\n",
        "item_sajida=990\n",
        "for item in list_sajida:\n",
        "    if(item_sajida==item):\n",
        "        item_sajida=True\n",
        "if(item_sajida==True):\n",
        "    print(\"Item is Available in the list\")\n",
        "else:\n",
        "    print(\"Item is Not available in the list\")"
      ],
      "metadata": {
        "colab": {
          "base_uri": "https://localhost:8080/"
        },
        "id": "XHbuZRUt1gM_",
        "outputId": "29187e7b-a400-4b99-9bab-82ec5e8dc4e0"
      },
      "execution_count": 1,
      "outputs": [
        {
          "output_type": "stream",
          "name": "stdout",
          "text": [
            "False\n",
            "False\n",
            "True\n",
            "True\n",
            "\n",
            "\n",
            "False\n",
            "False\n",
            "\n",
            "\n",
            "False\n",
            "True\n",
            "False\n",
            "False\n",
            "True\n",
            "True\n",
            "\n",
            "\n",
            "False\n",
            "True\n",
            "\n",
            "\n",
            "Item is Not available in the list\n"
          ]
        }
      ]
    },
    {
      "cell_type": "markdown",
      "source": [],
      "metadata": {
        "id": "9GIoC4mO47yY"
      }
    }
  ]
}